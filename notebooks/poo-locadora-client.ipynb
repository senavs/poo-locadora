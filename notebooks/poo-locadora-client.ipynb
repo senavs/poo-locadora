{
 "cells": [
  {
   "cell_type": "code",
   "execution_count": 1,
   "metadata": {},
   "outputs": [],
   "source": [
    "import os\n",
    "from pprint import pprint\n",
    "os.chdir('../')"
   ]
  },
  {
   "cell_type": "markdown",
   "metadata": {},
   "source": [
    "# Client Controler"
   ]
  },
  {
   "cell_type": "code",
   "execution_count": 2,
   "metadata": {},
   "outputs": [],
   "source": [
    "from project.entity.client import Client\n",
    "from project.controler.client import ClientController"
   ]
  },
  {
   "cell_type": "markdown",
   "metadata": {},
   "source": [
    "### Create Clients"
   ]
  },
  {
   "cell_type": "code",
   "execution_count": 3,
   "metadata": {},
   "outputs": [],
   "source": [
    "client1 = Client('12345', 'Fulano de Tal', 'Brasilia-DF', '9 9999-9999')\n",
    "client2 = Client('23456', 'Beltrano de Tal', 'Brasilia-DF', '9 8888-8888')\n",
    "client3 = Client('34567', 'Cliano de Tal', 'Brasilia-DF', '9 7777-7777')"
   ]
  },
  {
   "cell_type": "markdown",
   "metadata": {},
   "source": [
    "### List Clients"
   ]
  },
  {
   "cell_type": "code",
   "execution_count": 4,
   "metadata": {},
   "outputs": [
    {
     "name": "stdout",
     "output_type": "stream",
     "text": [
      "{}\n"
     ]
    }
   ],
   "source": [
    "pprint(ClientController.list_clients(), indent=2)"
   ]
  },
  {
   "cell_type": "markdown",
   "metadata": {},
   "source": [
    "### Insert Clients to db"
   ]
  },
  {
   "cell_type": "code",
   "execution_count": 5,
   "metadata": {},
   "outputs": [],
   "source": [
    "ClientController.insert_client(client1)\n",
    "ClientController.insert_client(client2)\n",
    "ClientController.insert_client(client3)"
   ]
  },
  {
   "cell_type": "markdown",
   "metadata": {},
   "source": [
    "### List New Clients"
   ]
  },
  {
   "cell_type": "code",
   "execution_count": 6,
   "metadata": {},
   "outputs": [
    {
     "name": "stdout",
     "output_type": "stream",
     "text": [
      "{ 0: { 'address': 'Brasilia-DF',\n",
      "       'debt': 0.0,\n",
      "       'id_number': '12345',\n",
      "       'name': 'Fulano de Tal',\n",
      "       'phone': '9 9999-9999'},\n",
      "  1: { 'address': 'Brasilia-DF',\n",
      "       'debt': 0.0,\n",
      "       'id_number': '23456',\n",
      "       'name': 'Beltrano de Tal',\n",
      "       'phone': '9 8888-8888'},\n",
      "  2: { 'address': 'Brasilia-DF',\n",
      "       'debt': 0.0,\n",
      "       'id_number': '34567',\n",
      "       'name': 'Cliano de Tal',\n",
      "       'phone': '9 7777-7777'}}\n"
     ]
    }
   ],
   "source": [
    "pprint(ClientController.list_clients(), indent=2)"
   ]
  },
  {
   "cell_type": "markdown",
   "metadata": {},
   "source": [
    "### Add client debt"
   ]
  },
  {
   "cell_type": "code",
   "execution_count": 7,
   "metadata": {},
   "outputs": [
    {
     "data": {
      "text/plain": [
       "True"
      ]
     },
     "execution_count": 7,
     "metadata": {},
     "output_type": "execute_result"
    }
   ],
   "source": [
    "ClientController.add_debt_client(2, 10)"
   ]
  },
  {
   "cell_type": "code",
   "execution_count": 8,
   "metadata": {},
   "outputs": [
    {
     "name": "stdout",
     "output_type": "stream",
     "text": [
      "{ 'address': 'Brasilia-DF',\n",
      "  'debt': 10.0,\n",
      "  'id_number': '34567',\n",
      "  'name': 'Cliano de Tal',\n",
      "  'phone': '9 7777-7777'}\n"
     ]
    }
   ],
   "source": [
    "pprint(ClientController.select_client(2), indent=2)"
   ]
  },
  {
   "cell_type": "markdown",
   "metadata": {},
   "source": [
    "### Remove client debt"
   ]
  },
  {
   "cell_type": "code",
   "execution_count": 9,
   "metadata": {},
   "outputs": [
    {
     "data": {
      "text/plain": [
       "True"
      ]
     },
     "execution_count": 9,
     "metadata": {},
     "output_type": "execute_result"
    }
   ],
   "source": [
    "ClientController.reset_debit_client(2)"
   ]
  },
  {
   "cell_type": "code",
   "execution_count": 10,
   "metadata": {},
   "outputs": [
    {
     "name": "stdout",
     "output_type": "stream",
     "text": [
      "{ 'address': 'Brasilia-DF',\n",
      "  'debt': 0,\n",
      "  'id_number': '34567',\n",
      "  'name': 'Cliano de Tal',\n",
      "  'phone': '9 7777-7777'}\n"
     ]
    }
   ],
   "source": [
    "pprint(ClientController.select_client(2), indent=2)"
   ]
  },
  {
   "cell_type": "markdown",
   "metadata": {},
   "source": [
    "### Delete client"
   ]
  },
  {
   "cell_type": "code",
   "execution_count": 11,
   "metadata": {},
   "outputs": [
    {
     "data": {
      "text/plain": [
       "{'id_number': '34567',\n",
       " 'name': 'Cliano de Tal',\n",
       " 'address': 'Brasilia-DF',\n",
       " 'phone': '9 7777-7777',\n",
       " 'debt': 0}"
      ]
     },
     "execution_count": 11,
     "metadata": {},
     "output_type": "execute_result"
    }
   ],
   "source": [
    "ClientController.delete_client(2)"
   ]
  },
  {
   "cell_type": "code",
   "execution_count": 12,
   "metadata": {},
   "outputs": [
    {
     "name": "stdout",
     "output_type": "stream",
     "text": [
      "{}\n"
     ]
    }
   ],
   "source": [
    "pprint(ClientController.select_client(2), indent=2)"
   ]
  },
  {
   "cell_type": "code",
   "execution_count": null,
   "metadata": {},
   "outputs": [],
   "source": []
  }
 ],
 "metadata": {
  "kernelspec": {
   "display_name": "Python 3",
   "language": "python",
   "name": "python3"
  },
  "language_info": {
   "codemirror_mode": {
    "name": "ipython",
    "version": 3
   },
   "file_extension": ".py",
   "mimetype": "text/x-python",
   "name": "python",
   "nbconvert_exporter": "python",
   "pygments_lexer": "ipython3",
   "version": "3.7.5"
  }
 },
 "nbformat": 4,
 "nbformat_minor": 2
}
