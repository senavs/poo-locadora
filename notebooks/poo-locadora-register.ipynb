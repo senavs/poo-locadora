{
 "cells": [
  {
   "cell_type": "code",
   "execution_count": 1,
   "metadata": {},
   "outputs": [],
   "source": [
    "import os\n",
    "from pprint import pprint\n",
    "os.chdir('../')"
   ]
  },
  {
   "cell_type": "markdown",
   "metadata": {},
   "source": [
    "# Client"
   ]
  },
  {
   "cell_type": "code",
   "execution_count": 2,
   "metadata": {},
   "outputs": [],
   "source": [
    "from project.entity.client import Client\n",
    "from project.controler.client import ClientController"
   ]
  },
  {
   "cell_type": "code",
   "execution_count": 3,
   "metadata": {},
   "outputs": [],
   "source": [
    "client1 = Client('5550123', 'Fulano', 'Rua 1', '9 9999-9999')  # Client Fulano\n",
    "client2 = Client('4440568', 'Ciclano', 'Rua 2', '9 8888-8888')  # Client Ciclano\n",
    "client3 = Client('7770157', 'Beltrano', 'Rua 3', '9 7777-7777')  # Client Beltrano"
   ]
  },
  {
   "cell_type": "code",
   "execution_count": 4,
   "metadata": {},
   "outputs": [],
   "source": [
    "# Add all clients to database\n",
    "ClientController.insert_client(client1)\n",
    "ClientController.insert_client(client2)\n",
    "ClientController.insert_client(client3)"
   ]
  },
  {
   "cell_type": "markdown",
   "metadata": {},
   "source": [
    "# Product"
   ]
  },
  {
   "cell_type": "code",
   "execution_count": 5,
   "metadata": {},
   "outputs": [],
   "source": [
    "from project.entity.product import Product\n",
    "from project.controler.product import ProductController"
   ]
  },
  {
   "cell_type": "code",
   "execution_count": 6,
   "metadata": {},
   "outputs": [],
   "source": [
    "product1 = Product('CD', 3)  # CD Product\n",
    "product2 = Product('Tape', 5)  # Tape Product\n",
    "product3 = Product('Game', 10)  # Game Product"
   ]
  },
  {
   "cell_type": "code",
   "execution_count": 7,
   "metadata": {},
   "outputs": [],
   "source": [
    "# add all products to database\n",
    "ProductController.insert_product(product1)\n",
    "ProductController.insert_product(product2)\n",
    "ProductController.insert_product(product3)"
   ]
  },
  {
   "cell_type": "markdown",
   "metadata": {},
   "source": [
    "# Register"
   ]
  },
  {
   "cell_type": "code",
   "execution_count": 8,
   "metadata": {},
   "outputs": [],
   "source": [
    "from project.controler.register import RegisterController"
   ]
  },
  {
   "cell_type": "markdown",
   "metadata": {},
   "source": [
    "### Rent Products"
   ]
  },
  {
   "cell_type": "code",
   "execution_count": 9,
   "metadata": {},
   "outputs": [
    {
     "data": {
      "text/plain": [
       "False"
      ]
     },
     "execution_count": 9,
     "metadata": {},
     "output_type": "execute_result"
    }
   ],
   "source": [
    "RegisterController.rent_product(0, 0)  # give one CD to Fulano\n",
    "RegisterController.rent_product(0, 1)  # give one Tape to Fulano\n",
    "RegisterController.rent_product(1, 0)  # give one CD to Ciclano\n",
    "RegisterController.rent_product(1, 0)  # give one more CD to Ciclano\n",
    "RegisterController.rent_product(2, 0)  # try to five CD to Bultrano, but no more cd are available"
   ]
  },
  {
   "cell_type": "code",
   "execution_count": 10,
   "metadata": {},
   "outputs": [
    {
     "name": "stdout",
     "output_type": "stream",
     "text": [
      "{ 0: { 'client': Client('5550123', 'Fulano', 'Rua 1', '9 9999-9999'),\n",
      "       'product': Product('CD', 2)},\n",
      "  1: { 'client': Client('5550123', 'Fulano', 'Rua 1', '9 9999-9999'),\n",
      "       'product': Product('Tape', 4)},\n",
      "  2: { 'client': Client('4440568', 'Ciclano', 'Rua 2', '9 8888-8888'),\n",
      "       'product': Product('CD', 1)},\n",
      "  3: { 'client': Client('4440568', 'Ciclano', 'Rua 2', '9 8888-8888'),\n",
      "       'product': Product('CD', 0)}}\n"
     ]
    }
   ],
   "source": [
    "pprint(RegisterController.list_registers(), indent=2)  # all register of all clients and products"
   ]
  },
  {
   "cell_type": "markdown",
   "metadata": {},
   "source": [
    "### Client give product back"
   ]
  },
  {
   "cell_type": "code",
   "execution_count": 11,
   "metadata": {},
   "outputs": [
    {
     "name": "stdout",
     "output_type": "stream",
     "text": [
      "{'name': 'CD', 'quantity': 0}\n"
     ]
    }
   ],
   "source": [
    "pprint(ProductController.select_product(0), indent=2)  # There is no CD"
   ]
  },
  {
   "cell_type": "code",
   "execution_count": 12,
   "metadata": {},
   "outputs": [
    {
     "data": {
      "text/plain": [
       "True"
      ]
     },
     "execution_count": 12,
     "metadata": {},
     "output_type": "execute_result"
    }
   ],
   "source": [
    "RegisterController.give_product_back(0, 0, 0)  # Fulano give CD back"
   ]
  },
  {
   "cell_type": "code",
   "execution_count": 13,
   "metadata": {},
   "outputs": [
    {
     "name": "stdout",
     "output_type": "stream",
     "text": [
      "{'name': 'CD', 'quantity': 1}\n"
     ]
    }
   ],
   "source": [
    "pprint(ProductController.select_product(0), indent=2)  # Now there is one CD"
   ]
  },
  {
   "cell_type": "code",
   "execution_count": 14,
   "metadata": {},
   "outputs": [
    {
     "name": "stdout",
     "output_type": "stream",
     "text": [
      "{ 1: { 'client': Client('5550123', 'Fulano', 'Rua 1', '9 9999-9999'),\n",
      "       'product': Product('Tape', 4)},\n",
      "  2: { 'client': Client('4440568', 'Ciclano', 'Rua 2', '9 8888-8888'),\n",
      "       'product': Product('CD', 1)},\n",
      "  3: { 'client': Client('4440568', 'Ciclano', 'Rua 2', '9 8888-8888'),\n",
      "       'product': Product('CD', 0)}}\n"
     ]
    }
   ],
   "source": [
    "pprint(RegisterController.list_registers(), indent=2)  # The register number 0 now it's out"
   ]
  },
  {
   "cell_type": "markdown",
   "metadata": {},
   "source": [
    "### Give to the Client a fine (if the Client didn't give Product back)"
   ]
  },
  {
   "cell_type": "code",
   "execution_count": 15,
   "metadata": {},
   "outputs": [
    {
     "data": {
      "text/plain": [
       "True"
      ]
     },
     "execution_count": 15,
     "metadata": {},
     "output_type": "execute_result"
    }
   ],
   "source": [
    "RegisterController.give_client_fine(1, 10.50)  # give a fine of $10.50 to Ciclano"
   ]
  },
  {
   "cell_type": "code",
   "execution_count": 16,
   "metadata": {},
   "outputs": [
    {
     "name": "stdout",
     "output_type": "stream",
     "text": [
      "{ 'address': 'Rua 2',\n",
      "  'debt': 10.5,\n",
      "  'id_number': '4440568',\n",
      "  'name': 'Ciclano',\n",
      "  'phone': '9 8888-8888'}\n"
     ]
    }
   ],
   "source": [
    "pprint(ClientController.select_client(1), indent=2)"
   ]
  },
  {
   "cell_type": "markdown",
   "metadata": {},
   "source": [
    "### Client give Product back and the Client paid the fine"
   ]
  },
  {
   "cell_type": "code",
   "execution_count": 17,
   "metadata": {},
   "outputs": [
    {
     "name": "stdout",
     "output_type": "stream",
     "text": [
      "{ 1: { 'client': Client('5550123', 'Fulano', 'Rua 1', '9 9999-9999'),\n",
      "       'product': Product('Tape', 4)},\n",
      "  2: { 'client': Client('4440568', 'Ciclano', 'Rua 2', '9 8888-8888'),\n",
      "       'product': Product('CD', 1)},\n",
      "  3: { 'client': Client('4440568', 'Ciclano', 'Rua 2', '9 8888-8888'),\n",
      "       'product': Product('CD', 0)}}\n"
     ]
    }
   ],
   "source": [
    "pprint(RegisterController.list_registers(), indent=2)"
   ]
  },
  {
   "cell_type": "code",
   "execution_count": 18,
   "metadata": {},
   "outputs": [
    {
     "data": {
      "text/plain": [
       "True"
      ]
     },
     "execution_count": 18,
     "metadata": {},
     "output_type": "execute_result"
    }
   ],
   "source": [
    "RegisterController.remove_client_fine(1)"
   ]
  },
  {
   "cell_type": "code",
   "execution_count": 19,
   "metadata": {},
   "outputs": [
    {
     "data": {
      "text/plain": [
       "True"
      ]
     },
     "execution_count": 19,
     "metadata": {},
     "output_type": "execute_result"
    }
   ],
   "source": [
    "RegisterController.give_product_back(2, 1, 0)  # Ciclano give CD back"
   ]
  },
  {
   "cell_type": "code",
   "execution_count": 20,
   "metadata": {},
   "outputs": [
    {
     "name": "stdout",
     "output_type": "stream",
     "text": [
      "{ 'address': 'Rua 2',\n",
      "  'debt': 0,\n",
      "  'id_number': '4440568',\n",
      "  'name': 'Ciclano',\n",
      "  'phone': '9 8888-8888'}\n"
     ]
    }
   ],
   "source": [
    "pprint(ClientController.select_client(1), indent=2)  # Ciclano no longer is owing CD product"
   ]
  },
  {
   "cell_type": "code",
   "execution_count": 21,
   "metadata": {},
   "outputs": [
    {
     "name": "stdout",
     "output_type": "stream",
     "text": [
      "{ 1: { 'client': Client('5550123', 'Fulano', 'Rua 1', '9 9999-9999'),\n",
      "       'product': Product('Tape', 4)},\n",
      "  3: { 'client': Client('4440568', 'Ciclano', 'Rua 2', '9 8888-8888'),\n",
      "       'product': Product('CD', 0)}}\n"
     ]
    }
   ],
   "source": [
    "pprint(RegisterController.list_registers(), indent=2)"
   ]
  },
  {
   "cell_type": "markdown",
   "metadata": {},
   "source": [
    "### Database"
   ]
  },
  {
   "cell_type": "code",
   "execution_count": 22,
   "metadata": {},
   "outputs": [],
   "source": [
    "from project.model.model import db"
   ]
  },
  {
   "cell_type": "code",
   "execution_count": 23,
   "metadata": {},
   "outputs": [
    {
     "data": {
      "text/plain": [
       "{0: {'id_number': '5550123',\n",
       "  'name': 'Fulano',\n",
       "  'address': 'Rua 1',\n",
       "  'phone': '9 9999-9999',\n",
       "  'debt': 0.0},\n",
       " 1: {'id_number': '4440568',\n",
       "  'name': 'Ciclano',\n",
       "  'address': 'Rua 2',\n",
       "  'phone': '9 8888-8888',\n",
       "  'debt': 0},\n",
       " 2: {'id_number': '7770157',\n",
       "  'name': 'Beltrano',\n",
       "  'address': 'Rua 3',\n",
       "  'phone': '9 7777-7777',\n",
       "  'debt': 0.0}}"
      ]
     },
     "execution_count": 23,
     "metadata": {},
     "output_type": "execute_result"
    }
   ],
   "source": [
    "# Client database\n",
    "db['client'].select()  "
   ]
  },
  {
   "cell_type": "code",
   "execution_count": 24,
   "metadata": {},
   "outputs": [
    {
     "data": {
      "text/plain": [
       "{0: {'name': 'CD', 'quantity': 2},\n",
       " 1: {'name': 'Tape', 'quantity': 4},\n",
       " 2: {'name': 'Game', 'quantity': 10}}"
      ]
     },
     "execution_count": 24,
     "metadata": {},
     "output_type": "execute_result"
    }
   ],
   "source": [
    "# Product database\n",
    "db['product'].select()"
   ]
  },
  {
   "cell_type": "code",
   "execution_count": 25,
   "metadata": {},
   "outputs": [
    {
     "data": {
      "text/plain": [
       "{1: {'client': Client('5550123', 'Fulano', 'Rua 1', '9 9999-9999'),\n",
       "  'product': Product('Tape', 4)},\n",
       " 3: {'client': Client('4440568', 'Ciclano', 'Rua 2', '9 8888-8888'),\n",
       "  'product': Product('CD', 0)}}"
      ]
     },
     "execution_count": 25,
     "metadata": {},
     "output_type": "execute_result"
    }
   ],
   "source": [
    "# Register database\n",
    "db['register'].select()  "
   ]
  },
  {
   "cell_type": "code",
   "execution_count": null,
   "metadata": {},
   "outputs": [],
   "source": []
  }
 ],
 "metadata": {
  "kernelspec": {
   "display_name": "Python 3",
   "language": "python",
   "name": "python3"
  },
  "language_info": {
   "codemirror_mode": {
    "name": "ipython",
    "version": 3
   },
   "file_extension": ".py",
   "mimetype": "text/x-python",
   "name": "python",
   "nbconvert_exporter": "python",
   "pygments_lexer": "ipython3",
   "version": "3.7.5"
  }
 },
 "nbformat": 4,
 "nbformat_minor": 2
}
